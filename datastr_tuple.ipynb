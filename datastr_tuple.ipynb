{
 "cells": [
  {
   "cell_type": "markdown",
   "metadata": {},
   "source": [
    "# Tuple are immutable data structure in python\n",
    " it is ordered , indexed and faster then the list"
   ]
  },
  {
   "cell_type": "code",
   "execution_count": 1,
   "metadata": {},
   "outputs": [
    {
     "name": "stdout",
     "output_type": "stream",
     "text": [
      "-1\n"
     ]
    }
   ],
   "source": [
    "tup = (2,3,4,50,0,-1)\n",
    "\n",
    "# <!-- find the lowest num -->\n",
    "\n",
    "def find_lowest_num(x):\n",
    "    lowest_value = x[0]\n",
    "    for i in x:\n",
    "        if i < lowest_value:\n",
    "            lowest_value = i\n",
    "    return lowest_value\n",
    "\n",
    "result = find_lowest_num(tup)\n",
    "print(result)"
   ]
  },
  {
   "cell_type": "markdown",
   "metadata": {},
   "source": [
    "# 1) What is a tuple and why is it used?"
   ]
  },
  {
   "cell_type": "markdown",
   "metadata": {},
   "source": [
    "tuple is a one of the python data structure. which is used to store an heterogeneous data,\n",
    "and  tuple is immutable data type, ordered and indexed."
   ]
  },
  {
   "cell_type": "markdown",
   "metadata": {},
   "source": [
    "# 3) How do we access the values of a tuple?"
   ]
  },
  {
   "cell_type": "code",
   "execution_count": 1,
   "metadata": {},
   "outputs": [
    {
     "name": "stdout",
     "output_type": "stream",
     "text": [
      "30\n"
     ]
    }
   ],
   "source": [
    "tup = (10,20,30,'work',100)\n",
    "\n",
    "print(tup[2])\n"
   ]
  },
  {
   "cell_type": "markdown",
   "metadata": {},
   "source": [
    "# 4) How to nest or combine two tuples?"
   ]
  },
  {
   "cell_type": "code",
   "execution_count": 2,
   "metadata": {},
   "outputs": [
    {
     "name": "stdout",
     "output_type": "stream",
     "text": [
      "((1, 2, 3, 4, 'work'), (100, 20, 50))\n"
     ]
    }
   ],
   "source": [
    "tup1 = (1,2,3,4, 'work')\n",
    "tup2 = (100,20,50)\n",
    "\n",
    "nest = tup1,tup2\n",
    "print(nest)"
   ]
  },
  {
   "cell_type": "markdown",
   "metadata": {},
   "source": [
    "# 5) Are tuples immutable or mutable?"
   ]
  },
  {
   "cell_type": "markdown",
   "metadata": {},
   "source": [
    "before answering to this question what is mutable and immutable. mutable means changeable elements and immutable means you can not change the value or modify.\n",
    "let's see tuple is immutbale data type. once it create you can not modify the tuple. wait I will prove you!!"
   ]
  },
  {
   "cell_type": "code",
   "execution_count": 3,
   "metadata": {},
   "outputs": [
    {
     "ename": "TypeError",
     "evalue": "'tuple' object does not support item assignment",
     "output_type": "error",
     "traceback": [
      "\u001b[0;31m---------------------------------------------------------------------------\u001b[0m",
      "\u001b[0;31mTypeError\u001b[0m                                 Traceback (most recent call last)",
      "Cell \u001b[0;32mIn[3], line 3\u001b[0m\n\u001b[1;32m      1\u001b[0m tup \u001b[38;5;241m=\u001b[39m (\u001b[38;5;241m1\u001b[39m,\u001b[38;5;124m'\u001b[39m\u001b[38;5;124mno_violence\u001b[39m\u001b[38;5;124m'\u001b[39m,\u001b[38;5;241m30\u001b[39m,\u001b[38;5;241m100\u001b[39m,\u001b[38;5;241m50\u001b[39m)\n\u001b[0;32m----> 3\u001b[0m \u001b[43mtup\u001b[49m\u001b[43m[\u001b[49m\u001b[38;5;241;43m5\u001b[39;49m\u001b[43m]\u001b[49m \u001b[38;5;241m=\u001b[39m \u001b[38;5;241m1000\u001b[39m\n",
      "\u001b[0;31mTypeError\u001b[0m: 'tuple' object does not support item assignment"
     ]
    }
   ],
   "source": [
    "tup = (1,'no_violence',30,100,50)\n",
    "\n",
    "tup[5] = 1000"
   ]
  },
  {
   "cell_type": "markdown",
   "metadata": {},
   "source": [
    "# 6) Can tuples store identical data within them?\n"
   ]
  },
  {
   "cell_type": "code",
   "execution_count": 7,
   "metadata": {},
   "outputs": [
    {
     "name": "stdout",
     "output_type": "stream",
     "text": [
      "[(\"today's data\", 'march', 14, 2025), (1, 2, 3, 4, 100, 500)]\n",
      "<class 'list'>\n",
      "[(\"today's data\", 'march', 14, 2025), (1, 2, 3, 4, 100, 500)]\n"
     ]
    }
   ],
   "source": [
    "tup = [(\"today's date\",'march',14,2025),(1,2,3,4,100,500)]\n",
    "print(tup)\n",
    "print(type(tup))\n",
    "\n",
    "# tup[0][0] = \"Today's\" # secens tuple is immutable i can not modify the tuple\n",
    "print(tup)"
   ]
  },
  {
   "cell_type": "markdown",
   "metadata": {},
   "source": [
    "# 7) How can you loop through a tuple?"
   ]
  },
  {
   "cell_type": "code",
   "execution_count": 8,
   "metadata": {},
   "outputs": [
    {
     "name": "stdout",
     "output_type": "stream",
     "text": [
      "today's data march 14 2025 "
     ]
    }
   ],
   "source": [
    "tup = [(\"today's date\",'march',14,2025),(1,2,3,4,100,500)]\n",
    "\n",
    "for i in tup[0]:\n",
    "    print(i,end = ' ')"
   ]
  },
  {
   "cell_type": "markdown",
   "metadata": {},
   "source": [
    "# 8) How to access the index of the tuple using a loop?"
   ]
  },
  {
   "cell_type": "code",
   "execution_count": 11,
   "metadata": {},
   "outputs": [
    {
     "name": "stdout",
     "output_type": "stream",
     "text": [
      "index : 0 and value is [\"today's date\"]\n",
      "index : 1 and value is ['march']\n",
      "index : 2 and value is [14]\n",
      "index : 3 and value is [2025]\n"
     ]
    }
   ],
   "source": [
    "tup = (\"today's date\",'march',14,2025)\n",
    "\n",
    "for i,j in enumerate(tup):\n",
    "    print(f'index : {i} and value is {[j]}')"
   ]
  },
  {
   "cell_type": "markdown",
   "metadata": {},
   "source": [
    "# 9) Can we remove the values or items from the tuples?"
   ]
  },
  {
   "cell_type": "code",
   "execution_count": 13,
   "metadata": {},
   "outputs": [
    {
     "name": "stdout",
     "output_type": "stream",
     "text": [
      "(\"today's date\", 'march', 14, 2025)\n"
     ]
    },
    {
     "ename": "NameError",
     "evalue": "name 'tup' is not defined",
     "output_type": "error",
     "traceback": [
      "\u001b[0;31m---------------------------------------------------------------------------\u001b[0m",
      "\u001b[0;31mNameError\u001b[0m                                 Traceback (most recent call last)",
      "Cell \u001b[0;32mIn[13], line 5\u001b[0m\n\u001b[1;32m      3\u001b[0m \u001b[38;5;28mprint\u001b[39m(tup)\n\u001b[1;32m      4\u001b[0m \u001b[38;5;28;01mdel\u001b[39;00m tup\n\u001b[0;32m----> 5\u001b[0m \u001b[38;5;28mprint\u001b[39m(\u001b[43mtup\u001b[49m)\n",
      "\u001b[0;31mNameError\u001b[0m: name 'tup' is not defined"
     ]
    }
   ],
   "source": [
    "tup = (\"today's date\",'march',14,2025)\n",
    "\n",
    "print(tup)\n",
    "del tup\n",
    "print(tup) # after deleting the tuple we can no longer to access the tuple"
   ]
  },
  {
   "cell_type": "markdown",
   "metadata": {},
   "source": [
    "# 10) How to count the number of times the values have appeared in the tuple?\n",
    "This can be done by using the count method of the tuple, the count method returns the number of times a value has appeared in a tuple. For example:"
   ]
  },
  {
   "cell_type": "code",
   "execution_count": 14,
   "metadata": {},
   "outputs": [
    {
     "name": "stdout",
     "output_type": "stream",
     "text": [
      "3\n"
     ]
    }
   ],
   "source": [
    "tup = (10,10,10,20,30,40)\n",
    "print(tup.count(10))"
   ]
  },
  {
   "cell_type": "markdown",
   "metadata": {},
   "source": [
    "# 11) How to get the index of a value in a tuple?"
   ]
  },
  {
   "cell_type": "code",
   "execution_count": 16,
   "metadata": {},
   "outputs": [
    {
     "name": "stdout",
     "output_type": "stream",
     "text": [
      "2\n"
     ]
    }
   ],
   "source": [
    "tup = (10,20,30,40,50,30)\n",
    "\n",
    "for i,j in enumerate(tup):\n",
    "    if j == 30:\n",
    "        print(i)\n",
    "        break\n"
   ]
  },
  {
   "cell_type": "markdown",
   "metadata": {},
   "source": [
    "# 13) How to check if the value is present inside a tuple or not?\n",
    "we can use membership oprator to check the value present or not"
   ]
  },
  {
   "cell_type": "code",
   "execution_count": 18,
   "metadata": {},
   "outputs": [
    {
     "name": "stdout",
     "output_type": "stream",
     "text": [
      "True\n",
      "0\n"
     ]
    }
   ],
   "source": [
    "tup = (1,2,3,4,5,6)\n",
    "\n",
    "if 1 in tup:\n",
    "    print('True')\n",
    "    print(tup.index(1))\n",
    "else:\n",
    "    print('False')"
   ]
  },
  {
   "cell_type": "code",
   "execution_count": null,
   "metadata": {},
   "outputs": [],
   "source": []
  }
 ],
 "metadata": {
  "kernelspec": {
   "display_name": "Python 3",
   "language": "python",
   "name": "python3"
  },
  "language_info": {
   "codemirror_mode": {
    "name": "ipython",
    "version": 3
   },
   "file_extension": ".py",
   "mimetype": "text/x-python",
   "name": "python",
   "nbconvert_exporter": "python",
   "pygments_lexer": "ipython3",
   "version": "3.10.12"
  }
 },
 "nbformat": 4,
 "nbformat_minor": 2
}
