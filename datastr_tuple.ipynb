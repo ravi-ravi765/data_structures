{
 "cells": [
  {
   "cell_type": "markdown",
   "metadata": {},
   "source": [
    "# Tuple are immutable data structure in python\n",
    "# it is ordered , indexed and faster then the list"
   ]
  },
  {
   "cell_type": "code",
   "execution_count": 1,
   "metadata": {},
   "outputs": [
    {
     "name": "stdout",
     "output_type": "stream",
     "text": [
      "-1\n"
     ]
    }
   ],
   "source": [
    "tup = (2,3,4,50,0,-1)\n",
    "\n",
    "# <!-- find the lowest num -->\n",
    "\n",
    "def find_lowest_num(x):\n",
    "    lowest_value = x[0]\n",
    "    for i in x:\n",
    "        if i < lowest_value:\n",
    "            lowest_value = i\n",
    "    return lowest_value\n",
    "\n",
    "result = find_lowest_num(tup)\n",
    "print(result)"
   ]
  },
  {
   "cell_type": "code",
   "execution_count": null,
   "metadata": {},
   "outputs": [],
   "source": []
  }
 ],
 "metadata": {
  "kernelspec": {
   "display_name": "Python 3",
   "language": "python",
   "name": "python3"
  },
  "language_info": {
   "codemirror_mode": {
    "name": "ipython",
    "version": 3
   },
   "file_extension": ".py",
   "mimetype": "text/x-python",
   "name": "python",
   "nbconvert_exporter": "python",
   "pygments_lexer": "ipython3",
   "version": "3.10.12"
  }
 },
 "nbformat": 4,
 "nbformat_minor": 2
}
